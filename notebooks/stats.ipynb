{
 "cells": [
  {
   "cell_type": "code",
   "execution_count": 7,
   "metadata": {},
   "outputs": [],
   "source": [
    "import geopandas as gpd\n",
    "import pandas as pd\n",
    "import matplotlib.pyplot as plt"
   ]
  },
  {
   "cell_type": "code",
   "execution_count": null,
   "metadata": {},
   "outputs": [],
   "source": [
    "cliopatria = gpd.read_file(\"../cliopatria.geojson\")\n",
    "cliopatria.sample(5)"
   ]
  },
  {
   "cell_type": "code",
   "execution_count": null,
   "metadata": {},
   "outputs": [],
   "source": [
    "# Get the range of years available in the dataset\n",
    "# Note: the range() function in Python generates numbers up to, but not including, the stop value\n",
    "years = range(cliopatria['FromYear'].min(),\n",
    "              cliopatria['ToYear'].max() + 1)\n",
    "years"
   ]
  },
  {
   "cell_type": "code",
   "execution_count": null,
   "metadata": {},
   "outputs": [],
   "source": [
    "# Calculate the number of of unique entries in the Name column\n",
    "len(cliopatria['Name'].unique())"
   ]
  },
  {
   "cell_type": "code",
   "execution_count": null,
   "metadata": {},
   "outputs": [],
   "source": [
    "# Calculate the number of unique entries in the Name column where MemberOf is a blank string\n",
    "cliopatria_minus_subpolities = cliopatria[cliopatria['MemberOf'] == '']\n",
    "len(cliopatria_minus_subpolities['Name'].unique())"
   ]
  },
  {
   "cell_type": "code",
   "execution_count": 18,
   "metadata": {},
   "outputs": [],
   "source": [
    "# Calculate the number of polities in the dataset for each year\n",
    "polity_counts = []\n",
    "for year in years:\n",
    "    polity_counts.append(\n",
    "        len(cliopatria_minus_subpolities[(cliopatria_minus_subpolities['FromYear'] <= year)\n",
    "                                         & (cliopatria_minus_subpolities['ToYear'] >= year)\n",
    "                                         ]['Name'].unique()\n",
    "            )\n",
    "        )\n",
    "\n",
    "# Create a DataFrame with the results\n",
    "polity_counts_df = pd.DataFrame({'Year': years, 'Number of polities': polity_counts})"
   ]
  },
  {
   "cell_type": "code",
   "execution_count": null,
   "metadata": {},
   "outputs": [],
   "source": [
    "# Take a look at 5 random years\n",
    "polity_counts_df.sample(5)"
   ]
  },
  {
   "cell_type": "code",
   "execution_count": null,
   "metadata": {},
   "outputs": [],
   "source": [
    "# Plot the number of polities over time\n",
    "plt.plot(polity_counts_df['Year'], polity_counts_df['Number of polities'])\n",
    "plt.xlabel('Year CE')\n",
    "plt.ylabel('Number of polities')\n",
    "plt.title('Number of polities in Cliopatria dataset')\n",
    "plt.show()"
   ]
  }
 ],
 "metadata": {
  "kernelspec": {
   "display_name": "Python (seshat_api)",
   "language": "python",
   "name": "seshat_api"
  },
  "language_info": {
   "codemirror_mode": {
    "name": "ipython",
    "version": 3
   },
   "file_extension": ".py",
   "mimetype": "text/x-python",
   "name": "python",
   "nbconvert_exporter": "python",
   "pygments_lexer": "ipython3",
   "version": "3.11.4"
  }
 },
 "nbformat": 4,
 "nbformat_minor": 2
}
