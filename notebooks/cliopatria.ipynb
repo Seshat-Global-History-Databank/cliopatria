{
 "cells": [
  {
   "cell_type": "markdown",
   "metadata": {},
   "source": [
    "# Cliopatria viewer\n",
    "\n",
    "1. Unzip the Cliopatria GeoJSON file by running the first cell of this notebook.\n",
    "2. Run the `convert_data.py` script, which will create a new version of the GeoJSON with unique colors for each polity.\n",
    "   - This will take a few moments to run and create a new file called `cliopatria_seshat_processed.geojson`\n",
    "   - This version of the GeoJSON is ready to be used by the Seshat Global History Databank website, but we'll also explore it here in this notebook\n",
    "3. Run the subsequent cells of this notebook\n",
    "4. Play around with both the GeoDataFrame (gdf) and the rendered maps\n"
   ]
  },
  {
   "cell_type": "code",
   "execution_count": 1,
   "metadata": {},
   "outputs": [],
   "source": [
    "# Unzip the Cliopatria GeoJson file\n",
    "# !unzip -o \"../cliopatria.geojson.zip\" -d \"../\""
   ]
  },
  {
   "cell_type": "code",
   "execution_count": 2,
   "metadata": {},
   "outputs": [],
   "source": [
    "# Generate the Seshat-processed GeoJSON\n",
    "# !python convert_data.py ../cliopatria.geojson"
   ]
  },
  {
   "cell_type": "code",
   "execution_count": 3,
   "metadata": {},
   "outputs": [],
   "source": [
    "cliopatria_geojson_path = \"../cliopatria_seshat_processed.geojson\""
   ]
  },
  {
   "cell_type": "code",
   "execution_count": 4,
   "metadata": {},
   "outputs": [],
   "source": [
    "# Import necessary libraries\n",
    "from map_functions import display_map\n",
    "import geopandas as gpd"
   ]
  },
  {
   "cell_type": "code",
   "execution_count": 5,
   "metadata": {},
   "outputs": [
    {
     "data": {
      "text/html": [
       "<div>\n",
       "<style scoped>\n",
       "    .dataframe tbody tr th:only-of-type {\n",
       "        vertical-align: middle;\n",
       "    }\n",
       "\n",
       "    .dataframe tbody tr th {\n",
       "        vertical-align: top;\n",
       "    }\n",
       "\n",
       "    .dataframe thead th {\n",
       "        text-align: right;\n",
       "    }\n",
       "</style>\n",
       "<table border=\"1\" class=\"dataframe\">\n",
       "  <thead>\n",
       "    <tr style=\"text-align: right;\">\n",
       "      <th></th>\n",
       "      <th>Name</th>\n",
       "      <th>FromYear</th>\n",
       "      <th>ToYear</th>\n",
       "      <th>Area</th>\n",
       "      <th>Type</th>\n",
       "      <th>Wikipedia</th>\n",
       "      <th>SeshatID</th>\n",
       "      <th>MemberOf</th>\n",
       "      <th>Components</th>\n",
       "      <th>DisplayName</th>\n",
       "      <th>Color</th>\n",
       "      <th>PolityStartYear</th>\n",
       "      <th>PolityEndYear</th>\n",
       "      <th>geometry</th>\n",
       "    </tr>\n",
       "  </thead>\n",
       "  <tbody>\n",
       "    <tr>\n",
       "      <th>4825</th>\n",
       "      <td>(Holy Roman Empire)</td>\n",
       "      <td>1034</td>\n",
       "      <td>1039</td>\n",
       "      <td>8.941377e+05</td>\n",
       "      <td>POLITY</td>\n",
       "      <td>Holy Roman Empire</td>\n",
       "      <td>de_empire_1</td>\n",
       "      <td></td>\n",
       "      <td>Holy Roman Empire</td>\n",
       "      <td>Holy Roman Empire</td>\n",
       "      <td>#9a63a4</td>\n",
       "      <td>922</td>\n",
       "      <td>1806</td>\n",
       "      <td>MULTIPOLYGON (((14.68908 42.17124, 14.76896 42...</td>\n",
       "    </tr>\n",
       "    <tr>\n",
       "      <th>8796</th>\n",
       "      <td>(Ottoman Empire)</td>\n",
       "      <td>1552</td>\n",
       "      <td>1555</td>\n",
       "      <td>3.482235e+06</td>\n",
       "      <td>POLITY</td>\n",
       "      <td>Ottoman Empire</td>\n",
       "      <td>tr_ottoman_emp_2</td>\n",
       "      <td></td>\n",
       "      <td>Ottoman Empire</td>\n",
       "      <td>Ottoman Empire</td>\n",
       "      <td>#77a5fb</td>\n",
       "      <td>1305</td>\n",
       "      <td>1923</td>\n",
       "      <td>MULTIPOLYGON (((27.03895 36.93261, 27.11678 36...</td>\n",
       "    </tr>\n",
       "    <tr>\n",
       "      <th>2801</th>\n",
       "      <td>Kingdom of Northumbria</td>\n",
       "      <td>634</td>\n",
       "      <td>637</td>\n",
       "      <td>2.928171e+04</td>\n",
       "      <td>POLITY</td>\n",
       "      <td>Northumbria</td>\n",
       "      <td>gb_anglo_saxon_1</td>\n",
       "      <td>(Anglo-Saxon England)</td>\n",
       "      <td></td>\n",
       "      <td>Kingdom of Northumbria</td>\n",
       "      <td>#04e8cc</td>\n",
       "      <td>612</td>\n",
       "      <td>935</td>\n",
       "      <td>POLYGON ((-1.11211 54.68112, -1.28596 54.68112...</td>\n",
       "    </tr>\n",
       "    <tr>\n",
       "      <th>793</th>\n",
       "      <td>Achaean League</td>\n",
       "      <td>-239</td>\n",
       "      <td>-231</td>\n",
       "      <td>3.760045e+03</td>\n",
       "      <td>POLITY</td>\n",
       "      <td>Achaean League</td>\n",
       "      <td></td>\n",
       "      <td></td>\n",
       "      <td></td>\n",
       "      <td>Achaean League</td>\n",
       "      <td>#fe98fc</td>\n",
       "      <td>-279</td>\n",
       "      <td>-145</td>\n",
       "      <td>POLYGON ((21.41555 38.15784, 21.49381 38.15784...</td>\n",
       "    </tr>\n",
       "    <tr>\n",
       "      <th>9260</th>\n",
       "      <td>Tümed</td>\n",
       "      <td>1609</td>\n",
       "      <td>1644</td>\n",
       "      <td>4.139388e+05</td>\n",
       "      <td>POLITY</td>\n",
       "      <td>Tumed</td>\n",
       "      <td></td>\n",
       "      <td>(Tümed)</td>\n",
       "      <td></td>\n",
       "      <td>Tümed</td>\n",
       "      <td>#d050e8</td>\n",
       "      <td>1582</td>\n",
       "      <td>1699</td>\n",
       "      <td>POLYGON ((100.22644 38.35146, 99.81044 38.4805...</td>\n",
       "    </tr>\n",
       "  </tbody>\n",
       "</table>\n",
       "</div>"
      ],
      "text/plain": [
       "                        Name  FromYear  ToYear          Area    Type  \\\n",
       "4825     (Holy Roman Empire)      1034    1039  8.941377e+05  POLITY   \n",
       "8796        (Ottoman Empire)      1552    1555  3.482235e+06  POLITY   \n",
       "2801  Kingdom of Northumbria       634     637  2.928171e+04  POLITY   \n",
       "793           Achaean League      -239    -231  3.760045e+03  POLITY   \n",
       "9260                   Tümed      1609    1644  4.139388e+05  POLITY   \n",
       "\n",
       "              Wikipedia          SeshatID               MemberOf  \\\n",
       "4825  Holy Roman Empire       de_empire_1                          \n",
       "8796     Ottoman Empire  tr_ottoman_emp_2                          \n",
       "2801        Northumbria  gb_anglo_saxon_1  (Anglo-Saxon England)   \n",
       "793      Achaean League                                            \n",
       "9260              Tumed                                  (Tümed)   \n",
       "\n",
       "             Components             DisplayName    Color  PolityStartYear  \\\n",
       "4825  Holy Roman Empire       Holy Roman Empire  #9a63a4              922   \n",
       "8796     Ottoman Empire          Ottoman Empire  #77a5fb             1305   \n",
       "2801                     Kingdom of Northumbria  #04e8cc              612   \n",
       "793                              Achaean League  #fe98fc             -279   \n",
       "9260                                      Tümed  #d050e8             1582   \n",
       "\n",
       "      PolityEndYear                                           geometry  \n",
       "4825           1806  MULTIPOLYGON (((14.68908 42.17124, 14.76896 42...  \n",
       "8796           1923  MULTIPOLYGON (((27.03895 36.93261, 27.11678 36...  \n",
       "2801            935  POLYGON ((-1.11211 54.68112, -1.28596 54.68112...  \n",
       "793            -145  POLYGON ((21.41555 38.15784, 21.49381 38.15784...  \n",
       "9260           1699  POLYGON ((100.22644 38.35146, 99.81044 38.4805...  "
      ]
     },
     "execution_count": 5,
     "metadata": {},
     "output_type": "execute_result"
    }
   ],
   "source": [
    "# Load the processed Cliopatria data to a GeoDataFrame with geopandas\n",
    "gdf = gpd.read_file(cliopatria_geojson_path)\n",
    "gdf.sample(5)  # Display a sample of the data"
   ]
  },
  {
   "cell_type": "markdown",
   "metadata": {},
   "source": [
    "# Play with the data on the map\n",
    "\n",
    "**Notes**\n",
    "- Use minus numbers for BCE.\n",
    "- Click the shapes to reveal the polity display names"
   ]
  },
  {
   "cell_type": "code",
   "execution_count": 6,
   "metadata": {},
   "outputs": [],
   "source": [
    "display_year = 1700"
   ]
  },
  {
   "cell_type": "markdown",
   "metadata": {},
   "source": [
    "### Folium plot"
   ]
  },
  {
   "cell_type": "code",
   "execution_count": 7,
   "metadata": {},
   "outputs": [
    {
     "data": {
      "application/vnd.jupyter.widget-view+json": {
       "model_id": "f577d98db1c14382a1891a7c4c3979c9",
       "version_major": 2,
       "version_minor": 0
      },
      "text/plain": [
       "IntText(value=1700, description='Year:')"
      ]
     },
     "metadata": {},
     "output_type": "display_data"
    },
    {
     "data": {
      "application/vnd.jupyter.widget-view+json": {
       "model_id": "166d16eded684622a3ce9e8d9cbd2e64",
       "version_major": 2,
       "version_minor": 0
      },
      "text/plain": [
       "IntSlider(value=1700, description='Year:', max=2024, min=-3400)"
      ]
     },
     "metadata": {},
     "output_type": "display_data"
    },
    {
     "data": {
      "application/vnd.jupyter.widget-view+json": {
       "model_id": "cd3f80b17ca6475ea0f32a9c21a0eca9",
       "version_major": 2,
       "version_minor": 0
      },
      "text/plain": [
       "RadioButtons(description='Display:', options=('Polities', 'Components'), value='Polities')"
      ]
     },
     "metadata": {},
     "output_type": "display_data"
    },
    {
     "data": {
      "application/vnd.jupyter.widget-view+json": {
       "model_id": "16a170ee898a4d889b0e4ef869033fe6",
       "version_major": 2,
       "version_minor": 0
      },
      "text/plain": [
       "Output()"
      ]
     },
     "metadata": {},
     "output_type": "display_data"
    }
   ],
   "source": [
    "display_map(gdf, display_year, map_function='folium')"
   ]
  }
 ],
 "metadata": {
  "kernelspec": {
   "display_name": "test cliopatria",
   "language": "python",
   "name": "cliopatria_test"
  },
  "language_info": {
   "codemirror_mode": {
    "name": "ipython",
    "version": 3
   },
   "file_extension": ".py",
   "mimetype": "text/x-python",
   "name": "python",
   "nbconvert_exporter": "python",
   "pygments_lexer": "ipython3",
   "version": "3.11.10"
  }
 },
 "nbformat": 4,
 "nbformat_minor": 4
}
