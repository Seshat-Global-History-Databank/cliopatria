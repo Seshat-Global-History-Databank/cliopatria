{
 "cells": [
  {
   "cell_type": "markdown",
   "metadata": {},
   "source": [
    "# Cliopatria viewer\n",
    "\n",
    "1. Unzip the Cliopatria GeoJSON file by running the first cell of this notebook.\n",
    "2. Run the `convert_data.py` script, which will create a new version of the GeoJSON with unique colors for each polity.\n",
    "   - This will take a few moments to run and create a new file called `cliopatria_seshat_processed.geojson`\n",
    "   - This version of the GeoJSON is ready to be used by the Seshat Global History Databank website, but we'll also explore it here in this notebook\n",
    "3. Run the subsequent cells of this notebook\n",
    "4. Play around with both the GeoDataFrame (gdf) and the rendered maps\n"
   ]
  },
  {
   "cell_type": "code",
   "execution_count": 1,
   "metadata": {},
   "outputs": [],
   "source": [
    "# Unzip the Cliopatria GeoJson file\n",
    "# !unzip -o \"../cliopatria.geojson.zip\" -d \"../\""
   ]
  },
  {
   "cell_type": "code",
   "execution_count": 2,
   "metadata": {},
   "outputs": [],
   "source": [
    "# Generate the Seshat-processed GeoJSON\n",
    "# !python convert_data.py ../cliopatria.geojson"
   ]
  },
  {
   "cell_type": "code",
   "execution_count": 1,
   "metadata": {},
   "outputs": [],
   "source": [
    "cliopatria_geojson_path = \"../cliopatria_seshat_processed.geojson\""
   ]
  },
  {
   "cell_type": "code",
   "execution_count": 2,
   "metadata": {},
   "outputs": [],
   "source": [
    "# Import necessary libraries\n",
    "from map_functions import display_map\n",
    "import geopandas as gpd"
   ]
  },
  {
   "cell_type": "code",
   "execution_count": 3,
   "metadata": {},
   "outputs": [
    {
     "data": {
      "text/html": [
       "<div>\n",
       "<style scoped>\n",
       "    .dataframe tbody tr th:only-of-type {\n",
       "        vertical-align: middle;\n",
       "    }\n",
       "\n",
       "    .dataframe tbody tr th {\n",
       "        vertical-align: top;\n",
       "    }\n",
       "\n",
       "    .dataframe thead th {\n",
       "        text-align: right;\n",
       "    }\n",
       "</style>\n",
       "<table border=\"1\" class=\"dataframe\">\n",
       "  <thead>\n",
       "    <tr style=\"text-align: right;\">\n",
       "      <th></th>\n",
       "      <th>Name</th>\n",
       "      <th>FromYear</th>\n",
       "      <th>ToYear</th>\n",
       "      <th>Area</th>\n",
       "      <th>Type</th>\n",
       "      <th>Wikipedia</th>\n",
       "      <th>SeshatID</th>\n",
       "      <th>MemberOf</th>\n",
       "      <th>Components</th>\n",
       "      <th>DisplayName</th>\n",
       "      <th>Color</th>\n",
       "      <th>PolityStartYear</th>\n",
       "      <th>PolityEndYear</th>\n",
       "      <th>geometry</th>\n",
       "    </tr>\n",
       "  </thead>\n",
       "  <tbody>\n",
       "    <tr>\n",
       "      <th>2777</th>\n",
       "      <td>Hunnic Empire</td>\n",
       "      <td>633</td>\n",
       "      <td>665</td>\n",
       "      <td>4.628260e+01</td>\n",
       "      <td>POLITY</td>\n",
       "      <td>Huns</td>\n",
       "      <td></td>\n",
       "      <td></td>\n",
       "      <td></td>\n",
       "      <td>Hunnic Empire</td>\n",
       "      <td>#0264b0</td>\n",
       "      <td>426</td>\n",
       "      <td>673</td>\n",
       "      <td>POLYGON ((37.66553 45.56227, 37.67619 45.62776...</td>\n",
       "    </tr>\n",
       "    <tr>\n",
       "      <th>12748</th>\n",
       "      <td>Muhammad Ali dynasty</td>\n",
       "      <td>1865</td>\n",
       "      <td>1865</td>\n",
       "      <td>1.834560e+06</td>\n",
       "      <td>POLITY</td>\n",
       "      <td>History of Egypt under the Muhammad Ali dynasty</td>\n",
       "      <td></td>\n",
       "      <td></td>\n",
       "      <td></td>\n",
       "      <td>Muhammad Ali dynasty</td>\n",
       "      <td>#cf517e</td>\n",
       "      <td>1805</td>\n",
       "      <td>1865</td>\n",
       "      <td>MULTIPOLYGON (((27.4969 11.27884, 27.42371 11....</td>\n",
       "    </tr>\n",
       "    <tr>\n",
       "      <th>10351</th>\n",
       "      <td>Yarubid dynasty</td>\n",
       "      <td>1718</td>\n",
       "      <td>1740</td>\n",
       "      <td>1.214809e+05</td>\n",
       "      <td>POLITY</td>\n",
       "      <td>Ya'rubids</td>\n",
       "      <td></td>\n",
       "      <td></td>\n",
       "      <td></td>\n",
       "      <td>Yarubid dynasty</td>\n",
       "      <td>#b09761</td>\n",
       "      <td>1626</td>\n",
       "      <td>1743</td>\n",
       "      <td>MULTIPOLYGON (((39.67398 -8.00744, 39.52798 -8...</td>\n",
       "    </tr>\n",
       "    <tr>\n",
       "      <th>2704</th>\n",
       "      <td>Tibetan Empire</td>\n",
       "      <td>627</td>\n",
       "      <td>627</td>\n",
       "      <td>7.505583e+05</td>\n",
       "      <td>POLITY</td>\n",
       "      <td>Tibetan Empire</td>\n",
       "      <td>cn_tibet_k</td>\n",
       "      <td></td>\n",
       "      <td></td>\n",
       "      <td>Tibetan Empire</td>\n",
       "      <td>#ca6175</td>\n",
       "      <td>623</td>\n",
       "      <td>849</td>\n",
       "      <td>POLYGON ((91.63074 27.99381, 91.19299 28.0581,...</td>\n",
       "    </tr>\n",
       "    <tr>\n",
       "      <th>11517</th>\n",
       "      <td>Electorate of Baden</td>\n",
       "      <td>1805</td>\n",
       "      <td>1805</td>\n",
       "      <td>7.458064e+03</td>\n",
       "      <td>POLITY</td>\n",
       "      <td>Electorate of Baden</td>\n",
       "      <td></td>\n",
       "      <td></td>\n",
       "      <td></td>\n",
       "      <td>Electorate of Baden</td>\n",
       "      <td>#5f4b27</td>\n",
       "      <td>1803</td>\n",
       "      <td>1805</td>\n",
       "      <td>POLYGON ((8.1278 48.12574, 8.21059 48.12574, 8...</td>\n",
       "    </tr>\n",
       "  </tbody>\n",
       "</table>\n",
       "</div>"
      ],
      "text/plain": [
       "                       Name  FromYear  ToYear          Area    Type  \\\n",
       "2777          Hunnic Empire       633     665  4.628260e+01  POLITY   \n",
       "12748  Muhammad Ali dynasty      1865    1865  1.834560e+06  POLITY   \n",
       "10351       Yarubid dynasty      1718    1740  1.214809e+05  POLITY   \n",
       "2704         Tibetan Empire       627     627  7.505583e+05  POLITY   \n",
       "11517   Electorate of Baden      1805    1805  7.458064e+03  POLITY   \n",
       "\n",
       "                                             Wikipedia    SeshatID MemberOf  \\\n",
       "2777                                              Huns                        \n",
       "12748  History of Egypt under the Muhammad Ali dynasty                        \n",
       "10351                                        Ya'rubids                        \n",
       "2704                                    Tibetan Empire  cn_tibet_k            \n",
       "11517                              Electorate of Baden                        \n",
       "\n",
       "      Components           DisplayName    Color  PolityStartYear  \\\n",
       "2777                     Hunnic Empire  #0264b0              426   \n",
       "12748             Muhammad Ali dynasty  #cf517e             1805   \n",
       "10351                  Yarubid dynasty  #b09761             1626   \n",
       "2704                    Tibetan Empire  #ca6175              623   \n",
       "11517              Electorate of Baden  #5f4b27             1803   \n",
       "\n",
       "       PolityEndYear                                           geometry  \n",
       "2777             673  POLYGON ((37.66553 45.56227, 37.67619 45.62776...  \n",
       "12748           1865  MULTIPOLYGON (((27.4969 11.27884, 27.42371 11....  \n",
       "10351           1743  MULTIPOLYGON (((39.67398 -8.00744, 39.52798 -8...  \n",
       "2704             849  POLYGON ((91.63074 27.99381, 91.19299 28.0581,...  \n",
       "11517           1805  POLYGON ((8.1278 48.12574, 8.21059 48.12574, 8...  "
      ]
     },
     "execution_count": 3,
     "metadata": {},
     "output_type": "execute_result"
    }
   ],
   "source": [
    "# Load the processed Cliopatria data to a GeoDataFrame with geopandas\n",
    "gdf = gpd.read_file(cliopatria_geojson_path)\n",
    "gdf.sample(5)  # Display a sample of the data"
   ]
  },
  {
   "cell_type": "markdown",
   "metadata": {},
   "source": [
    "# Play with the data on the map\n",
    "\n",
    "**Notes**\n",
    "- Use minus numbers for BCE.\n",
    "- Click the shapes to reveal the polity display names"
   ]
  },
  {
   "cell_type": "code",
   "execution_count": 4,
   "metadata": {},
   "outputs": [],
   "source": [
    "display_year = 1700"
   ]
  },
  {
   "cell_type": "markdown",
   "metadata": {},
   "source": [
    "### Folium plot"
   ]
  },
  {
   "cell_type": "code",
   "execution_count": 5,
   "metadata": {},
   "outputs": [
    {
     "data": {
      "application/vnd.jupyter.widget-view+json": {
       "model_id": "b220f76f5aa54aea8c25daa1f0e72819",
       "version_major": 2,
       "version_minor": 0
      },
      "text/plain": [
       "IntText(value=1700, description='Year:')"
      ]
     },
     "metadata": {},
     "output_type": "display_data"
    },
    {
     "data": {
      "application/vnd.jupyter.widget-view+json": {
       "model_id": "cb05689ab4434e1ab48d6f2f48d1a5b4",
       "version_major": 2,
       "version_minor": 0
      },
      "text/plain": [
       "IntSlider(value=1700, description='Year:', max=2024, min=-3400)"
      ]
     },
     "metadata": {},
     "output_type": "display_data"
    },
    {
     "data": {
      "application/vnd.jupyter.widget-view+json": {
       "model_id": "154af8d73adc4d9992fb257e2bb5949e",
       "version_major": 2,
       "version_minor": 0
      },
      "text/plain": [
       "RadioButtons(description='Display:', options=('Polities', 'Components'), value='Polities')"
      ]
     },
     "metadata": {},
     "output_type": "display_data"
    },
    {
     "data": {
      "application/vnd.jupyter.widget-view+json": {
       "model_id": "7d73e0489dc54c1da96be5dad98b7bad",
       "version_major": 2,
       "version_minor": 0
      },
      "text/plain": [
       "Output()"
      ]
     },
     "metadata": {},
     "output_type": "display_data"
    }
   ],
   "source": [
    "display_map(gdf, display_year, map_function='folium')"
   ]
  }
 ],
 "metadata": {
  "kernelspec": {
   "display_name": "test cliopatria",
   "language": "python",
   "name": "cliopatria_test"
  },
  "language_info": {
   "codemirror_mode": {
    "name": "ipython",
    "version": 3
   },
   "file_extension": ".py",
   "mimetype": "text/x-python",
   "name": "python",
   "nbconvert_exporter": "python",
   "pygments_lexer": "ipython3",
   "version": "3.11.10"
  }
 },
 "nbformat": 4,
 "nbformat_minor": 4
}
